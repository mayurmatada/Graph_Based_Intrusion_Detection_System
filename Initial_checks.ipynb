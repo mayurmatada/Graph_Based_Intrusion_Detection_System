{
 "cells": [
  {
   "cell_type": "code",
   "execution_count": 1,
   "id": "d1f5b893",
   "metadata": {},
   "outputs": [],
   "source": [
    "%reset -f"
   ]
  },
  {
   "cell_type": "code",
   "execution_count": 2,
   "id": "bd8eabc2",
   "metadata": {},
   "outputs": [],
   "source": [
    "from src.util import load_and_combine_files, downsample_benign\n",
    "import os\n",
    "import pandas as pd\n",
    "import numpy as np"
   ]
  },
  {
   "cell_type": "code",
   "execution_count": 3,
   "id": "4c3ebddd",
   "metadata": {},
   "outputs": [
    {
     "data": {
      "text/plain": [
       "['Monday-WorkingHours.pcap_ISCX.csv',\n",
       " 'Wednesday-workingHours.pcap_ISCX.csv',\n",
       " 'Tuesday-WorkingHours.pcap_ISCX.csv',\n",
       " 'Friday-WorkingHours-Morning.pcap_ISCX.csv',\n",
       " 'Thursday-WorkingHours-Afternoon-Infilteration.pcap_ISCX.csv',\n",
       " 'Friday-WorkingHours-Afternoon-DDos.pcap_ISCX.csv',\n",
       " 'Friday-WorkingHours-Afternoon-PortScan.pcap_ISCX.csv']"
      ]
     },
     "execution_count": 3,
     "metadata": {},
     "output_type": "execute_result"
    }
   ],
   "source": [
    "paths = os.listdir(\"data/Raw/\")\n",
    "paths"
   ]
  },
  {
   "cell_type": "code",
   "execution_count": 4,
   "id": "8d45cac7",
   "metadata": {},
   "outputs": [],
   "source": [
    "paths = [\"data/Raw/\" + x for x in paths]"
   ]
  },
  {
   "cell_type": "code",
   "execution_count": 5,
   "id": "c99963a5",
   "metadata": {},
   "outputs": [
    {
     "name": "stdout",
     "output_type": "stream",
     "text": [
      "Completed:data/Raw/Monday-WorkingHours.pcap_ISCX.csv\n",
      "Completed:data/Raw/Wednesday-workingHours.pcap_ISCX.csv\n",
      "Completed:data/Raw/Tuesday-WorkingHours.pcap_ISCX.csv\n",
      "Completed:data/Raw/Friday-WorkingHours-Morning.pcap_ISCX.csv\n",
      "Completed:data/Raw/Thursday-WorkingHours-Afternoon-Infilteration.pcap_ISCX.csv\n",
      "Completed:data/Raw/Friday-WorkingHours-Afternoon-DDos.pcap_ISCX.csv\n",
      "Completed:data/Raw/Friday-WorkingHours-Afternoon-PortScan.pcap_ISCX.csv\n"
     ]
    }
   ],
   "source": [
    "combined_df = load_and_combine_files(paths)"
   ]
  },
  {
   "cell_type": "code",
   "execution_count": 6,
   "id": "8470be0a",
   "metadata": {},
   "outputs": [],
   "source": [
    "downsampled_df = downsample_benign(combined_df, label_col='Label')"
   ]
  },
  {
   "cell_type": "code",
   "execution_count": 7,
   "id": "da61b78c",
   "metadata": {},
   "outputs": [
    {
     "data": {
      "text/plain": [
       "Index(['Source IP', 'Source Port', 'Destination IP', 'Destination Port',\n",
       "       'Protocol', 'Timestamp', 'Flow Duration', 'Total Fwd Packets',\n",
       "       'Total Backward Packets', 'Total Length of Fwd Packets',\n",
       "       'Total Length of Bwd Packets', 'Fwd Packet Length Max',\n",
       "       'Fwd Packet Length Min', 'Fwd Packet Length Mean',\n",
       "       'Fwd Packet Length Std', 'Bwd Packet Length Max',\n",
       "       'Bwd Packet Length Min', 'Bwd Packet Length Mean',\n",
       "       'Bwd Packet Length Std', 'Flow Bytes/s', 'Flow Packets/s',\n",
       "       'Flow IAT Mean', 'Flow IAT Std', 'Flow IAT Max', 'Flow IAT Min',\n",
       "       'Fwd IAT Total', 'Fwd IAT Mean', 'Fwd IAT Std', 'Fwd IAT Max',\n",
       "       'Fwd IAT Min', 'Bwd IAT Total', 'Bwd IAT Mean', 'Bwd IAT Std',\n",
       "       'Bwd IAT Max', 'Bwd IAT Min', 'Fwd PSH Flags', 'Bwd PSH Flags',\n",
       "       'Fwd URG Flags', 'Bwd URG Flags', 'Fwd Header Length',\n",
       "       'Bwd Header Length', 'Fwd Packets/s', 'Bwd Packets/s',\n",
       "       'Min Packet Length', 'Max Packet Length', 'Packet Length Mean',\n",
       "       'Packet Length Std', 'Packet Length Variance', 'FIN Flag Count',\n",
       "       'SYN Flag Count', 'RST Flag Count', 'PSH Flag Count', 'ACK Flag Count',\n",
       "       'URG Flag Count', 'CWE Flag Count', 'ECE Flag Count', 'Down/Up Ratio',\n",
       "       'Average Packet Size', 'Avg Fwd Segment Size', 'Avg Bwd Segment Size',\n",
       "       'Fwd Header Length.1', 'Fwd Avg Bytes/Bulk', 'Fwd Avg Packets/Bulk',\n",
       "       'Fwd Avg Bulk Rate', 'Bwd Avg Bytes/Bulk', 'Bwd Avg Packets/Bulk',\n",
       "       'Bwd Avg Bulk Rate', 'Subflow Fwd Packets', 'Subflow Fwd Bytes',\n",
       "       'Subflow Bwd Packets', 'Subflow Bwd Bytes', 'Init_Win_bytes_forward',\n",
       "       'Init_Win_bytes_backward', 'act_data_pkt_fwd', 'min_seg_size_forward',\n",
       "       'Active Mean', 'Active Std', 'Active Max', 'Active Min', 'Idle Mean',\n",
       "       'Idle Std', 'Idle Max', 'Idle Min', 'Label'],\n",
       "      dtype='object')"
      ]
     },
     "execution_count": 7,
     "metadata": {},
     "output_type": "execute_result"
    }
   ],
   "source": [
    "downsampled_df.columns"
   ]
  },
  {
   "cell_type": "code",
   "execution_count": 8,
   "id": "f8dcef8e",
   "metadata": {},
   "outputs": [],
   "source": [
    "columns_to_normalize = [\n",
    "    'Flow Duration', 'Total Fwd Packets', 'Total Backward Packets',\n",
    "    'Total Length of Fwd Packets', 'Total Length of Bwd Packets',\n",
    "    'Fwd Packet Length Max', 'Fwd Packet Length Min', 'Fwd Packet Length Mean', 'Fwd Packet Length Std',\n",
    "    'Bwd Packet Length Max', 'Bwd Packet Length Min', 'Bwd Packet Length Mean', 'Bwd Packet Length Std',\n",
    "    'Flow Bytes/s', 'Flow Packets/s', 'Flow IAT Mean', 'Flow IAT Std', 'Flow IAT Max', 'Flow IAT Min',\n",
    "    'Fwd IAT Total', 'Fwd IAT Mean', 'Fwd IAT Std', 'Fwd IAT Max', 'Fwd IAT Min',\n",
    "    'Bwd IAT Total', 'Bwd IAT Mean', 'Bwd IAT Std', 'Bwd IAT Max', 'Bwd IAT Min',\n",
    "    'Fwd Header Length', 'Bwd Header Length', 'Fwd Packets/s', 'Bwd Packets/s',\n",
    "    'Min Packet Length', 'Max Packet Length', 'Packet Length Mean', 'Packet Length Std', 'Packet Length Variance',\n",
    "    'Down/Up Ratio', 'Average Packet Size', 'Avg Fwd Segment Size', 'Avg Bwd Segment Size',\n",
    "    'Fwd Header Length.1',\n",
    "    'Fwd Avg Bytes/Bulk', 'Fwd Avg Packets/Bulk', 'Fwd Avg Bulk Rate',\n",
    "    'Bwd Avg Bytes/Bulk', 'Bwd Avg Packets/Bulk', 'Bwd Avg Bulk Rate',\n",
    "    'Subflow Fwd Packets', 'Subflow Fwd Bytes', 'Subflow Bwd Packets', 'Subflow Bwd Bytes',\n",
    "    'Init_Win_bytes_forward', 'Init_Win_bytes_backward', 'act_data_pkt_fwd', 'min_seg_size_forward',\n",
    "    'Active Mean', 'Active Std', 'Active Max', 'Active Min',\n",
    "    'Idle Mean', 'Idle Std', 'Idle Max', 'Idle Min'\n",
    "]"
   ]
  },
  {
   "cell_type": "code",
   "execution_count": 9,
   "id": "0bfd4c8c",
   "metadata": {},
   "outputs": [],
   "source": [
    "numeric_columns = combined_df[columns_to_normalize].select_dtypes(include=[np.number]).columns.tolist()"
   ]
  },
  {
   "cell_type": "code",
   "execution_count": 10,
   "id": "4c0ce2cd",
   "metadata": {},
   "outputs": [
    {
     "name": "stdout",
     "output_type": "stream",
     "text": [
      "['Flow Duration', 'Total Fwd Packets', 'Total Backward Packets', 'Total Length of Fwd Packets', 'Total Length of Bwd Packets', 'Fwd Packet Length Max', 'Fwd Packet Length Min', 'Fwd Packet Length Mean', 'Fwd Packet Length Std', 'Bwd Packet Length Max', 'Bwd Packet Length Min', 'Bwd Packet Length Mean', 'Bwd Packet Length Std', 'Flow Bytes/s', 'Flow Packets/s', 'Flow IAT Mean', 'Flow IAT Std', 'Flow IAT Max', 'Flow IAT Min', 'Fwd IAT Total', 'Fwd IAT Mean', 'Fwd IAT Std', 'Fwd IAT Max', 'Fwd IAT Min', 'Bwd IAT Total', 'Bwd IAT Mean', 'Bwd IAT Std', 'Bwd IAT Max', 'Bwd IAT Min', 'Fwd Header Length', 'Bwd Header Length', 'Fwd Packets/s', 'Bwd Packets/s', 'Min Packet Length', 'Max Packet Length', 'Packet Length Mean', 'Packet Length Std', 'Packet Length Variance', 'Down/Up Ratio', 'Average Packet Size', 'Avg Fwd Segment Size', 'Avg Bwd Segment Size', 'Fwd Header Length.1', 'Subflow Fwd Packets', 'Subflow Fwd Bytes', 'Subflow Bwd Packets', 'Subflow Bwd Bytes', 'Init_Win_bytes_forward', 'Init_Win_bytes_backward', 'act_data_pkt_fwd', 'min_seg_size_forward', 'Active Mean', 'Active Std', 'Active Max', 'Active Min', 'Idle Mean', 'Idle Std', 'Idle Max', 'Idle Min']\n"
     ]
    }
   ],
   "source": [
    "print(numeric_columns)"
   ]
  },
  {
   "cell_type": "code",
   "execution_count": 11,
   "id": "90752b31",
   "metadata": {},
   "outputs": [
    {
     "name": "stdout",
     "output_type": "stream",
     "text": [
      "Flow Duration                  0\n",
      "Total Fwd Packets              0\n",
      "Total Backward Packets         0\n",
      "Total Length of Fwd Packets    0\n",
      "Total Length of Bwd Packets    0\n",
      "Fwd Packet Length Max          0\n",
      "Fwd Packet Length Min          0\n",
      "Fwd Packet Length Mean         0\n",
      "Fwd Packet Length Std          0\n",
      "Bwd Packet Length Max          0\n",
      "Bwd Packet Length Min          0\n",
      "Bwd Packet Length Mean         0\n",
      "Bwd Packet Length Std          0\n",
      "Flow Bytes/s                   0\n",
      "Flow Packets/s                 0\n",
      "Flow IAT Mean                  0\n",
      "Flow IAT Std                   0\n",
      "Flow IAT Max                   0\n",
      "Flow IAT Min                   0\n",
      "Fwd IAT Total                  0\n",
      "Fwd IAT Mean                   0\n",
      "Fwd IAT Std                    0\n",
      "Fwd IAT Max                    0\n",
      "Fwd IAT Min                    0\n",
      "Bwd IAT Total                  0\n",
      "Bwd IAT Mean                   0\n",
      "Bwd IAT Std                    0\n",
      "Bwd IAT Max                    0\n",
      "Bwd IAT Min                    0\n",
      "Fwd Header Length              0\n",
      "Bwd Header Length              0\n",
      "Fwd Packets/s                  0\n",
      "Bwd Packets/s                  0\n",
      "Min Packet Length              0\n",
      "Max Packet Length              0\n",
      "Packet Length Mean             0\n",
      "Packet Length Std              0\n",
      "Packet Length Variance         0\n",
      "Down/Up Ratio                  0\n",
      "Average Packet Size            0\n",
      "Avg Fwd Segment Size           0\n",
      "Avg Bwd Segment Size           0\n",
      "Fwd Header Length.1            0\n",
      "Subflow Fwd Packets            0\n",
      "Subflow Fwd Bytes              0\n",
      "Subflow Bwd Packets            0\n",
      "Subflow Bwd Bytes              0\n",
      "Init_Win_bytes_forward         0\n",
      "Init_Win_bytes_backward        0\n",
      "act_data_pkt_fwd               0\n",
      "min_seg_size_forward           0\n",
      "Active Mean                    0\n",
      "Active Std                     0\n",
      "Active Max                     0\n",
      "Active Min                     0\n",
      "Idle Mean                      0\n",
      "Idle Std                       0\n",
      "Idle Max                       0\n",
      "Idle Min                       0\n",
      "dtype: int64\n"
     ]
    }
   ],
   "source": [
    "print(np.isinf(combined_df[numeric_columns]).sum().sort_values(ascending=False))"
   ]
  }
 ],
 "metadata": {
  "kernelspec": {
   "display_name": "gnnnet",
   "language": "python",
   "name": "python3"
  },
  "language_info": {
   "codemirror_mode": {
    "name": "ipython",
    "version": 3
   },
   "file_extension": ".py",
   "mimetype": "text/x-python",
   "name": "python",
   "nbconvert_exporter": "python",
   "pygments_lexer": "ipython3",
   "version": "3.12.9"
  }
 },
 "nbformat": 4,
 "nbformat_minor": 5
}
