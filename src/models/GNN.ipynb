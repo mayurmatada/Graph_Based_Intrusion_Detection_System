{
 "cells": [
  {
   "cell_type": "code",
   "execution_count": 1,
   "id": "b1ca08a0",
   "metadata": {},
   "outputs": [
    {
     "data": {
      "text/plain": [
       "<torch._C.Generator at 0x7fbd3bb7ab50>"
      ]
     },
     "execution_count": 1,
     "metadata": {},
     "output_type": "execute_result"
    }
   ],
   "source": [
    "import polars as pl\n",
    "import numpy as np\n",
    "from sklearn.preprocessing import LabelEncoder\n",
    "import torch\n",
    "from torch_geometric.data import HeteroData\n",
    "device = torch.device('cuda' if torch.cuda.is_available() else 'cpu')\n",
    "torch.set_float32_matmul_precision('medium')\n",
    "torch.manual_seed(42)"
   ]
  },
  {
   "cell_type": "code",
   "execution_count": 2,
   "id": "58ce0db7",
   "metadata": {},
   "outputs": [],
   "source": [
    "X = pl.read_parquet(\"../../data/Processed_and_split/Processed_X.parquet\")\n",
    "y = pl.read_parquet(\"../../data/Processed_and_split/Processed_y.parquet\")"
   ]
  },
  {
   "cell_type": "code",
   "execution_count": 3,
   "id": "88751d85",
   "metadata": {},
   "outputs": [
    {
     "data": {
      "text/plain": [
       "16272"
      ]
     },
     "execution_count": 3,
     "metadata": {},
     "output_type": "execute_result"
    }
   ],
   "source": [
    "src_ips = X['Source IP'].unique()\n",
    "dest_ips = X['Destination IP'].unique()\n",
    "unique_hosts = list(set(src_ips) | set(dest_ips))\n",
    "host_id_map = {v: k for k, v in enumerate(unique_hosts)}\n",
    "num_hosts = len(unique_hosts)\n",
    "num_hosts"
   ]
  },
  {
   "cell_type": "code",
   "execution_count": 4,
   "id": "68a02f1e",
   "metadata": {},
   "outputs": [],
   "source": [
    "host_features = torch.zeros(num_hosts, 0)"
   ]
  },
  {
   "cell_type": "code",
   "execution_count": 5,
   "id": "32460183",
   "metadata": {},
   "outputs": [],
   "source": [
    "flow_features_df = X.drop(['Source IP', 'Destination IP', 'Source Port', 'Destination Port'])\n",
    "flow_features = torch.tensor(flow_features_df.to_numpy(), dtype=torch.float32)\n",
    "num_flows = flow_features.shape[0]"
   ]
  },
  {
   "cell_type": "code",
   "execution_count": 6,
   "id": "925f4b2c",
   "metadata": {},
   "outputs": [],
   "source": [
    "src_ids = X[\"Source IP\"].to_list()\n",
    "dst_ids = X[\"Destination IP\"].to_list()\n",
    "\n",
    "src_host_indices = torch.tensor([host_id_map[ip] for ip in src_ids])\n",
    "dst_host_indices = torch.tensor([host_id_map[ip] for ip in dst_ids])\n",
    "\n",
    "flow_indices = torch.arange(num_flows)\n",
    "\n",
    "src_edge_index = torch.stack([src_host_indices, flow_indices], dim=0)\n",
    "dst_edge_index = torch.stack([dst_host_indices, flow_indices], dim=0)"
   ]
  },
  {
   "cell_type": "code",
   "execution_count": 7,
   "id": "112fe35e",
   "metadata": {},
   "outputs": [],
   "source": [
    "embedding_dim = 32\n",
    "host_embedding = torch.nn.Embedding(num_hosts, embedding_dim)\n",
    "\n",
    "host_indices = torch.arange(num_hosts)\n",
    "host_features = host_embedding(host_indices)\n",
    "\n",
    "data = HeteroData()\n",
    "data['host'].x = host_features\n",
    "data['flow'].x = flow_features\n",
    "\n",
    "y = y['Label']\n",
    "\n",
    "encoder = LabelEncoder()\n",
    "y_encoded = encoder.fit_transform(y.to_list())\n",
    "data['flow'].y = torch.tensor(y_encoded, dtype=torch.long)"
   ]
  },
  {
   "cell_type": "code",
   "execution_count": 8,
   "id": "d2ed695d",
   "metadata": {},
   "outputs": [],
   "source": [
    "data['host', 'src_of', 'flow'].edge_index = src_edge_index\n",
    "data['host', 'dst_of', 'flow'].edge_index = dst_edge_index\n",
    "\n",
    "# Optional reverse edges\n",
    "data['flow', 'rev_src_of', 'host'].edge_index = src_edge_index.flip(0)\n",
    "data['flow', 'rev_dst_of', 'host'].edge_index = dst_edge_index.flip(0)\n",
    "\n",
    "\n",
    "data = data.to(device)"
   ]
  },
  {
   "cell_type": "code",
   "execution_count": 9,
   "id": "b22c2984",
   "metadata": {},
   "outputs": [],
   "source": [
    "def split_masks(data, split=(0.7, 0.15, 0.15), seed=42):\n",
    "    torch.manual_seed(seed)\n",
    "    num_nodes = data['flow'].num_nodes\n",
    "    perm = torch.randperm(num_nodes)\n",
    "\n",
    "    train_end = int(split[0] * num_nodes)\n",
    "    val_end = train_end + int(split[1] * num_nodes)\n",
    "\n",
    "    train_idx = perm[:train_end]\n",
    "    val_idx = perm[train_end:val_end]\n",
    "    test_idx = perm[val_end:]\n",
    "\n",
    "    for name, idx in [('train_mask', train_idx), ('val_mask', val_idx), ('test_mask', test_idx)]:\n",
    "        mask = torch.zeros(num_nodes, dtype=torch.bool)\n",
    "        mask[idx] = True\n",
    "        data['flow'][name] = mask"
   ]
  },
  {
   "cell_type": "code",
   "execution_count": 10,
   "id": "76a01af9",
   "metadata": {},
   "outputs": [],
   "source": [
    "split_masks(data)"
   ]
  },
  {
   "cell_type": "code",
   "execution_count": 11,
   "id": "55198dc2",
   "metadata": {},
   "outputs": [],
   "source": [
    "from torch_geometric.nn import HeteroConv, GATConv\n",
    "from torch.nn import Linear\n",
    "import torch.nn.functional as F\n"
   ]
  },
  {
   "cell_type": "code",
   "execution_count": 12,
   "id": "46f8fa86",
   "metadata": {},
   "outputs": [],
   "source": [
    "class HeteroGNN(torch.nn.Module):\n",
    "    def __init__(self, metadata, hidden_channels, out_channels, dropout, num_hosts, embedding_dim=32):\n",
    "        super().__init__()\n",
    "        self.device = device\n",
    "        self.host_embedding = torch.nn.Embedding(num_hosts, embedding_dim)\n",
    "\n",
    "        self.conv1 = HeteroConv({\n",
    "            ('host', 'src_of', 'flow'): GATConv((embedding_dim, flow_features.shape[1]), hidden_channels, add_self_loops=False),\n",
    "            ('host', 'dst_of', 'flow'): GATConv((embedding_dim, flow_features.shape[1]), hidden_channels, add_self_loops=False),\n",
    "            ('flow', 'rev_src_of', 'host'): GATConv((flow_features.shape[1], embedding_dim), hidden_channels, add_self_loops=False),\n",
    "            ('flow', 'rev_dst_of', 'host'): GATConv((flow_features.shape[1], embedding_dim), hidden_channels, add_self_loops=False),\n",
    "        }, aggr='sum')\n",
    "        self.lin = Linear(hidden_channels, out_channels)\n",
    "        self.dropout = dropout\n",
    "\n",
    "\n",
    "    def forward(self, x_dict, edge_index_dict):\n",
    "        # Create host embeddings on correct device and dtype matching autocast\n",
    "        device = next(self.parameters()).device\n",
    "        dtype = next(self.parameters()).dtype\n",
    "\n",
    "        host_indices = torch.arange(num_hosts, device=device)\n",
    "        x_dict['host'] = self.host_embedding(host_indices).to(device=device, dtype=dtype)\n",
    "        # Make sure flow features have the same dtype as model params\n",
    "        x_dict['flow'] = x_dict['flow'].to(device=device, dtype=dtype)\n",
    "\n",
    "        x_dict = self.conv1(x_dict, edge_index_dict)\n",
    "        x_dict = {k: F.relu(v) for k, v in x_dict.items()}\n",
    "        x_dict = {k: F.dropout(v, p=self.dropout, training=self.training) for k, v in x_dict.items()}\n",
    "\n",
    "        out = self.lin(x_dict['flow'])\n",
    "        return {'flow': out} "
   ]
  },
  {
   "cell_type": "code",
   "execution_count": 13,
   "id": "d6fcdd8b",
   "metadata": {},
   "outputs": [],
   "source": [
    "from torch.amp.grad_scaler import GradScaler\n",
    "from torch.amp.autocast_mode import autocast\n",
    "\n",
    "scaler = GradScaler(device='cuda')"
   ]
  },
  {
   "cell_type": "code",
   "execution_count": 14,
   "id": "3edcc486",
   "metadata": {},
   "outputs": [],
   "source": [
    "from sklearn.metrics import f1_score"
   ]
  },
  {
   "cell_type": "code",
   "execution_count": 15,
   "id": "0ac4ba85",
   "metadata": {},
   "outputs": [],
   "source": [
    "def train(model, data, optimizer, criterion, scaler):\n",
    "    model.train()\n",
    "    optimizer.zero_grad(set_to_none=True)\n",
    "\n",
    "    with autocast(dtype=torch.float16, device_type='cuda'):\n",
    "        # Cast features inside autocast to float16 if originally float32\n",
    "        x_dict = {\n",
    "            k: v.to(device=device, dtype=torch.float16) if v.dtype == torch.float32 else v.to(device=device)\n",
    "            for k, v in data.x_dict.items()\n",
    "        }\n",
    "        out = model(x_dict, data.edge_index_dict)\n",
    "        # Debug prints (uncomment for troubleshooting)\n",
    "        # print(f\"Output shape: {out['flow'].shape}, Train mask sum: {data['flow'].train_mask.sum()}\")\n",
    "        loss = criterion(\n",
    "            out['flow'][data['flow'].train_mask],\n",
    "            data['flow'].y[data['flow'].train_mask]\n",
    "        )\n",
    "\n",
    "    scaler.scale(loss).backward()\n",
    "    scaler.step(optimizer)\n",
    "    scaler.update()\n",
    "\n",
    "    return loss.item()\n",
    "\n",
    "# Evaluate remains mostly unchanged but make sure data is on the right device\n",
    "\n",
    "\n",
    "def evaluate(model, data, split='val'):\n",
    "    model.eval()\n",
    "    with torch.no_grad():\n",
    "        x_dict = {\n",
    "            k: v.to(device=device, dtype=torch.float16) if v.dtype == torch.float32 else v.to(device=device)\n",
    "            for k, v in data.x_dict.items()\n",
    "        }\n",
    "        out = model(x_dict, data.edge_index_dict)\n",
    "    if split == 'val':\n",
    "        mask = data['flow'].val_mask\n",
    "    elif split == 'test':\n",
    "        mask = data['flow'].test_mask\n",
    "    else:\n",
    "        mask = data['flow'].train_mask\n",
    "    pred = out['flow'][mask].argmax(dim=1)\n",
    "    acc = (pred == data['flow'].y[mask]).float().mean().item()\n",
    "    return acc\n",
    "\n",
    "# F1 evaluation with similar fix\n",
    "\n",
    "\n",
    "def evaluate_f1(model, data, split='val'):\n",
    "    model.eval()\n",
    "    with torch.no_grad():\n",
    "        x_dict = {\n",
    "            k: v.to(device=device, dtype=torch.float16) if v.dtype == torch.float32 else v.to(device=device)\n",
    "            for k, v in data.x_dict.items()\n",
    "        }\n",
    "        out = model(x_dict, data.edge_index_dict)\n",
    "        mask = data['flow'][f\"{split}_mask\"]\n",
    "        preds = out['flow'][mask].argmax(dim=1).cpu()\n",
    "        labels = data['flow'].y[mask].cpu()\n",
    "        return f1_score(labels, preds, average='macro')"
   ]
  },
  {
   "cell_type": "code",
   "execution_count": 16,
   "id": "10901307",
   "metadata": {},
   "outputs": [
    {
     "name": "stderr",
     "output_type": "stream",
     "text": [
      "/home/mayur/miniconda3/envs/gnnnet/lib/python3.12/site-packages/tqdm/auto.py:21: TqdmWarning: IProgress not found. Please update jupyter and ipywidgets. See https://ipywidgets.readthedocs.io/en/stable/user_install.html\n",
      "  from .autonotebook import tqdm as notebook_tqdm\n"
     ]
    }
   ],
   "source": [
    "import optuna\n",
    "from torch.utils.tensorboard.writer import SummaryWriter\n",
    "from sklearn.utils.class_weight import compute_class_weight\n",
    "\n",
    "storage = \"sqlite:///../../Parameter_Databases/Optuna/optuna_study.db\"\n",
    "\n",
    "\n",
    "def objective(trial):\n",
    "    hidden_channels = trial.suggest_categorical('hidden_channels', [32, 64, 128])\n",
    "    dropout = trial.suggest_float('dropout', 0.0, 0.5)\n",
    "    lr = trial.suggest_loguniform('lr', 1e-4, 1e-2)\n",
    "\n",
    "    scaler = GradScaler(device='cuda')\n",
    "\n",
    "    model = HeteroGNN(\n",
    "        data.metadata(), hidden_channels,\n",
    "        len(torch.unique(data['flow'].y)),\n",
    "        dropout,\n",
    "        num_hosts=num_hosts\n",
    "    ).to(device)\n",
    "\n",
    "    class_weights = compute_class_weight(class_weight='balanced',\n",
    "                                         classes=np.unique(y_encoded),\n",
    "                                         y=y_encoded)\n",
    "    class_weights_tensor = torch.tensor(class_weights, dtype=torch.float).to(device)\n",
    "\n",
    "    optimizer = torch.optim.Adam(model.parameters(), lr=lr)\n",
    "    criterion = torch.nn.CrossEntropyLoss(weight=class_weights_tensor)\n",
    "\n",
    "    writer = SummaryWriter(log_dir=f\"../../Parameter_Databases/Tensorboard/{trial.number}\")\n",
    "    best_val_f1 = 0\n",
    "    for epoch in range(1, 201):\n",
    "        loss = train(model, data, optimizer, criterion, scaler)\n",
    "        val_f1 = evaluate_f1(model, data, split='val')\n",
    "        writer.add_scalar(\"Loss/train\", loss, epoch)\n",
    "        writer.add_scalar(\"F1/val\", val_f1, epoch)\n",
    "        best_val_f1 = max(best_val_f1, val_f1)\n",
    "\n",
    "    writer.close()\n",
    "    del model, optimizer, criterion\n",
    "    torch.cuda.empty_cache()\n",
    "\n",
    "    return best_val_f1"
   ]
  },
  {
   "cell_type": "code",
   "execution_count": 17,
   "id": "af4509d4",
   "metadata": {},
   "outputs": [
    {
     "name": "stderr",
     "output_type": "stream",
     "text": [
      "[I 2025-05-18 03:30:15,694] A new study created in RDB with name: hetero_gnn_intrusion\n",
      "/tmp/ipykernel_112818/2732871695.py:11: FutureWarning: suggest_loguniform has been deprecated in v3.0.0. This feature will be removed in v6.0.0. See https://github.com/optuna/optuna/releases/tag/v3.0.0. Use suggest_float(..., log=True) instead.\n",
      "  lr = trial.suggest_loguniform('lr', 1e-4, 1e-2)\n",
      "[W 2025-05-18 03:31:53,010] Trial 0 failed with parameters: {'hidden_channels': 64, 'dropout': 0.48557864449278454, 'lr': 0.0008422264038392451} because of the following error: KeyboardInterrupt().\n",
      "Traceback (most recent call last):\n",
      "  File \"/home/mayur/miniconda3/envs/gnnnet/lib/python3.12/site-packages/optuna/study/_optimize.py\", line 197, in _run_trial\n",
      "    value_or_values = func(trial)\n",
      "                      ^^^^^^^^^^^\n",
      "  File \"/tmp/ipykernel_112818/2732871695.py\", line 34, in objective\n",
      "    val_f1 = evaluate_f1(model, data, split='val')\n",
      "             ^^^^^^^^^^^^^^^^^^^^^^^^^^^^^^^^^^^^^\n",
      "  File \"/tmp/ipykernel_112818/3350257824.py\", line 58, in evaluate_f1\n",
      "    preds = out['flow'][mask].argmax(dim=1).cpu()\n",
      "            ^^^^^^^^^^^^^^^^^^^^^^^^^^^^^^^\n",
      "KeyboardInterrupt\n",
      "[W 2025-05-18 03:31:53,012] Trial 0 failed with value None.\n"
     ]
    },
    {
     "ename": "KeyboardInterrupt",
     "evalue": "",
     "output_type": "error",
     "traceback": [
      "\u001b[31m---------------------------------------------------------------------------\u001b[39m",
      "\u001b[31mKeyboardInterrupt\u001b[39m                         Traceback (most recent call last)",
      "\u001b[36mCell\u001b[39m\u001b[36m \u001b[39m\u001b[32mIn[17]\u001b[39m\u001b[32m, line 9\u001b[39m\n\u001b[32m      1\u001b[39m split_masks(data)\n\u001b[32m      3\u001b[39m study = optuna.create_study(\n\u001b[32m      4\u001b[39m     direction=\u001b[33m\"\u001b[39m\u001b[33mmaximize\u001b[39m\u001b[33m\"\u001b[39m,\n\u001b[32m      5\u001b[39m     study_name=\u001b[33m\"\u001b[39m\u001b[33mhetero_gnn_intrusion\u001b[39m\u001b[33m\"\u001b[39m,\n\u001b[32m      6\u001b[39m     storage=storage,\n\u001b[32m      7\u001b[39m     load_if_exists=\u001b[38;5;28;01mTrue\u001b[39;00m,\n\u001b[32m      8\u001b[39m )\n\u001b[32m----> \u001b[39m\u001b[32m9\u001b[39m \u001b[43mstudy\u001b[49m\u001b[43m.\u001b[49m\u001b[43moptimize\u001b[49m\u001b[43m(\u001b[49m\u001b[43mobjective\u001b[49m\u001b[43m,\u001b[49m\u001b[43m \u001b[49m\u001b[43mn_trials\u001b[49m\u001b[43m=\u001b[49m\u001b[32;43m20\u001b[39;49m\u001b[43m)\u001b[49m\n\u001b[32m     11\u001b[39m \u001b[38;5;28mprint\u001b[39m(\u001b[33m\"\u001b[39m\u001b[33mBest hyperparams:\u001b[39m\u001b[33m\"\u001b[39m, study.best_params)\n",
      "\u001b[36mFile \u001b[39m\u001b[32m~/miniconda3/envs/gnnnet/lib/python3.12/site-packages/optuna/study/study.py:475\u001b[39m, in \u001b[36mStudy.optimize\u001b[39m\u001b[34m(self, func, n_trials, timeout, n_jobs, catch, callbacks, gc_after_trial, show_progress_bar)\u001b[39m\n\u001b[32m    373\u001b[39m \u001b[38;5;28;01mdef\u001b[39;00m\u001b[38;5;250m \u001b[39m\u001b[34moptimize\u001b[39m(\n\u001b[32m    374\u001b[39m     \u001b[38;5;28mself\u001b[39m,\n\u001b[32m    375\u001b[39m     func: ObjectiveFuncType,\n\u001b[32m   (...)\u001b[39m\u001b[32m    382\u001b[39m     show_progress_bar: \u001b[38;5;28mbool\u001b[39m = \u001b[38;5;28;01mFalse\u001b[39;00m,\n\u001b[32m    383\u001b[39m ) -> \u001b[38;5;28;01mNone\u001b[39;00m:\n\u001b[32m    384\u001b[39m \u001b[38;5;250m    \u001b[39m\u001b[33;03m\"\"\"Optimize an objective function.\u001b[39;00m\n\u001b[32m    385\u001b[39m \n\u001b[32m    386\u001b[39m \u001b[33;03m    Optimization is done by choosing a suitable set of hyperparameter values from a given\u001b[39;00m\n\u001b[32m   (...)\u001b[39m\u001b[32m    473\u001b[39m \u001b[33;03m            If nested invocation of this method occurs.\u001b[39;00m\n\u001b[32m    474\u001b[39m \u001b[33;03m    \"\"\"\u001b[39;00m\n\u001b[32m--> \u001b[39m\u001b[32m475\u001b[39m     \u001b[43m_optimize\u001b[49m\u001b[43m(\u001b[49m\n\u001b[32m    476\u001b[39m \u001b[43m        \u001b[49m\u001b[43mstudy\u001b[49m\u001b[43m=\u001b[49m\u001b[38;5;28;43mself\u001b[39;49m\u001b[43m,\u001b[49m\n\u001b[32m    477\u001b[39m \u001b[43m        \u001b[49m\u001b[43mfunc\u001b[49m\u001b[43m=\u001b[49m\u001b[43mfunc\u001b[49m\u001b[43m,\u001b[49m\n\u001b[32m    478\u001b[39m \u001b[43m        \u001b[49m\u001b[43mn_trials\u001b[49m\u001b[43m=\u001b[49m\u001b[43mn_trials\u001b[49m\u001b[43m,\u001b[49m\n\u001b[32m    479\u001b[39m \u001b[43m        \u001b[49m\u001b[43mtimeout\u001b[49m\u001b[43m=\u001b[49m\u001b[43mtimeout\u001b[49m\u001b[43m,\u001b[49m\n\u001b[32m    480\u001b[39m \u001b[43m        \u001b[49m\u001b[43mn_jobs\u001b[49m\u001b[43m=\u001b[49m\u001b[43mn_jobs\u001b[49m\u001b[43m,\u001b[49m\n\u001b[32m    481\u001b[39m \u001b[43m        \u001b[49m\u001b[43mcatch\u001b[49m\u001b[43m=\u001b[49m\u001b[38;5;28;43mtuple\u001b[39;49m\u001b[43m(\u001b[49m\u001b[43mcatch\u001b[49m\u001b[43m)\u001b[49m\u001b[43m \u001b[49m\u001b[38;5;28;43;01mif\u001b[39;49;00m\u001b[43m \u001b[49m\u001b[38;5;28;43misinstance\u001b[39;49m\u001b[43m(\u001b[49m\u001b[43mcatch\u001b[49m\u001b[43m,\u001b[49m\u001b[43m \u001b[49m\u001b[43mIterable\u001b[49m\u001b[43m)\u001b[49m\u001b[43m \u001b[49m\u001b[38;5;28;43;01melse\u001b[39;49;00m\u001b[43m \u001b[49m\u001b[43m(\u001b[49m\u001b[43mcatch\u001b[49m\u001b[43m,\u001b[49m\u001b[43m)\u001b[49m\u001b[43m,\u001b[49m\n\u001b[32m    482\u001b[39m \u001b[43m        \u001b[49m\u001b[43mcallbacks\u001b[49m\u001b[43m=\u001b[49m\u001b[43mcallbacks\u001b[49m\u001b[43m,\u001b[49m\n\u001b[32m    483\u001b[39m \u001b[43m        \u001b[49m\u001b[43mgc_after_trial\u001b[49m\u001b[43m=\u001b[49m\u001b[43mgc_after_trial\u001b[49m\u001b[43m,\u001b[49m\n\u001b[32m    484\u001b[39m \u001b[43m        \u001b[49m\u001b[43mshow_progress_bar\u001b[49m\u001b[43m=\u001b[49m\u001b[43mshow_progress_bar\u001b[49m\u001b[43m,\u001b[49m\n\u001b[32m    485\u001b[39m \u001b[43m    \u001b[49m\u001b[43m)\u001b[49m\n",
      "\u001b[36mFile \u001b[39m\u001b[32m~/miniconda3/envs/gnnnet/lib/python3.12/site-packages/optuna/study/_optimize.py:63\u001b[39m, in \u001b[36m_optimize\u001b[39m\u001b[34m(study, func, n_trials, timeout, n_jobs, catch, callbacks, gc_after_trial, show_progress_bar)\u001b[39m\n\u001b[32m     61\u001b[39m \u001b[38;5;28;01mtry\u001b[39;00m:\n\u001b[32m     62\u001b[39m     \u001b[38;5;28;01mif\u001b[39;00m n_jobs == \u001b[32m1\u001b[39m:\n\u001b[32m---> \u001b[39m\u001b[32m63\u001b[39m         \u001b[43m_optimize_sequential\u001b[49m\u001b[43m(\u001b[49m\n\u001b[32m     64\u001b[39m \u001b[43m            \u001b[49m\u001b[43mstudy\u001b[49m\u001b[43m,\u001b[49m\n\u001b[32m     65\u001b[39m \u001b[43m            \u001b[49m\u001b[43mfunc\u001b[49m\u001b[43m,\u001b[49m\n\u001b[32m     66\u001b[39m \u001b[43m            \u001b[49m\u001b[43mn_trials\u001b[49m\u001b[43m,\u001b[49m\n\u001b[32m     67\u001b[39m \u001b[43m            \u001b[49m\u001b[43mtimeout\u001b[49m\u001b[43m,\u001b[49m\n\u001b[32m     68\u001b[39m \u001b[43m            \u001b[49m\u001b[43mcatch\u001b[49m\u001b[43m,\u001b[49m\n\u001b[32m     69\u001b[39m \u001b[43m            \u001b[49m\u001b[43mcallbacks\u001b[49m\u001b[43m,\u001b[49m\n\u001b[32m     70\u001b[39m \u001b[43m            \u001b[49m\u001b[43mgc_after_trial\u001b[49m\u001b[43m,\u001b[49m\n\u001b[32m     71\u001b[39m \u001b[43m            \u001b[49m\u001b[43mreseed_sampler_rng\u001b[49m\u001b[43m=\u001b[49m\u001b[38;5;28;43;01mFalse\u001b[39;49;00m\u001b[43m,\u001b[49m\n\u001b[32m     72\u001b[39m \u001b[43m            \u001b[49m\u001b[43mtime_start\u001b[49m\u001b[43m=\u001b[49m\u001b[38;5;28;43;01mNone\u001b[39;49;00m\u001b[43m,\u001b[49m\n\u001b[32m     73\u001b[39m \u001b[43m            \u001b[49m\u001b[43mprogress_bar\u001b[49m\u001b[43m=\u001b[49m\u001b[43mprogress_bar\u001b[49m\u001b[43m,\u001b[49m\n\u001b[32m     74\u001b[39m \u001b[43m        \u001b[49m\u001b[43m)\u001b[49m\n\u001b[32m     75\u001b[39m     \u001b[38;5;28;01melse\u001b[39;00m:\n\u001b[32m     76\u001b[39m         \u001b[38;5;28;01mif\u001b[39;00m n_jobs == -\u001b[32m1\u001b[39m:\n",
      "\u001b[36mFile \u001b[39m\u001b[32m~/miniconda3/envs/gnnnet/lib/python3.12/site-packages/optuna/study/_optimize.py:160\u001b[39m, in \u001b[36m_optimize_sequential\u001b[39m\u001b[34m(study, func, n_trials, timeout, catch, callbacks, gc_after_trial, reseed_sampler_rng, time_start, progress_bar)\u001b[39m\n\u001b[32m    157\u001b[39m         \u001b[38;5;28;01mbreak\u001b[39;00m\n\u001b[32m    159\u001b[39m \u001b[38;5;28;01mtry\u001b[39;00m:\n\u001b[32m--> \u001b[39m\u001b[32m160\u001b[39m     frozen_trial = \u001b[43m_run_trial\u001b[49m\u001b[43m(\u001b[49m\u001b[43mstudy\u001b[49m\u001b[43m,\u001b[49m\u001b[43m \u001b[49m\u001b[43mfunc\u001b[49m\u001b[43m,\u001b[49m\u001b[43m \u001b[49m\u001b[43mcatch\u001b[49m\u001b[43m)\u001b[49m\n\u001b[32m    161\u001b[39m \u001b[38;5;28;01mfinally\u001b[39;00m:\n\u001b[32m    162\u001b[39m     \u001b[38;5;66;03m# The following line mitigates memory problems that can be occurred in some\u001b[39;00m\n\u001b[32m    163\u001b[39m     \u001b[38;5;66;03m# environments (e.g., services that use computing containers such as GitHub Actions).\u001b[39;00m\n\u001b[32m    164\u001b[39m     \u001b[38;5;66;03m# Please refer to the following PR for further details:\u001b[39;00m\n\u001b[32m    165\u001b[39m     \u001b[38;5;66;03m# https://github.com/optuna/optuna/pull/325.\u001b[39;00m\n\u001b[32m    166\u001b[39m     \u001b[38;5;28;01mif\u001b[39;00m gc_after_trial:\n",
      "\u001b[36mFile \u001b[39m\u001b[32m~/miniconda3/envs/gnnnet/lib/python3.12/site-packages/optuna/study/_optimize.py:248\u001b[39m, in \u001b[36m_run_trial\u001b[39m\u001b[34m(study, func, catch)\u001b[39m\n\u001b[32m    241\u001b[39m         \u001b[38;5;28;01massert\u001b[39;00m \u001b[38;5;28;01mFalse\u001b[39;00m, \u001b[33m\"\u001b[39m\u001b[33mShould not reach.\u001b[39m\u001b[33m\"\u001b[39m\n\u001b[32m    243\u001b[39m \u001b[38;5;28;01mif\u001b[39;00m (\n\u001b[32m    244\u001b[39m     frozen_trial.state == TrialState.FAIL\n\u001b[32m    245\u001b[39m     \u001b[38;5;129;01mand\u001b[39;00m func_err \u001b[38;5;129;01mis\u001b[39;00m \u001b[38;5;129;01mnot\u001b[39;00m \u001b[38;5;28;01mNone\u001b[39;00m\n\u001b[32m    246\u001b[39m     \u001b[38;5;129;01mand\u001b[39;00m \u001b[38;5;129;01mnot\u001b[39;00m \u001b[38;5;28misinstance\u001b[39m(func_err, catch)\n\u001b[32m    247\u001b[39m ):\n\u001b[32m--> \u001b[39m\u001b[32m248\u001b[39m     \u001b[38;5;28;01mraise\u001b[39;00m func_err\n\u001b[32m    249\u001b[39m \u001b[38;5;28;01mreturn\u001b[39;00m frozen_trial\n",
      "\u001b[36mFile \u001b[39m\u001b[32m~/miniconda3/envs/gnnnet/lib/python3.12/site-packages/optuna/study/_optimize.py:197\u001b[39m, in \u001b[36m_run_trial\u001b[39m\u001b[34m(study, func, catch)\u001b[39m\n\u001b[32m    195\u001b[39m \u001b[38;5;28;01mwith\u001b[39;00m get_heartbeat_thread(trial._trial_id, study._storage):\n\u001b[32m    196\u001b[39m     \u001b[38;5;28;01mtry\u001b[39;00m:\n\u001b[32m--> \u001b[39m\u001b[32m197\u001b[39m         value_or_values = \u001b[43mfunc\u001b[49m\u001b[43m(\u001b[49m\u001b[43mtrial\u001b[49m\u001b[43m)\u001b[49m\n\u001b[32m    198\u001b[39m     \u001b[38;5;28;01mexcept\u001b[39;00m exceptions.TrialPruned \u001b[38;5;28;01mas\u001b[39;00m e:\n\u001b[32m    199\u001b[39m         \u001b[38;5;66;03m# TODO(mamu): Handle multi-objective cases.\u001b[39;00m\n\u001b[32m    200\u001b[39m         state = TrialState.PRUNED\n",
      "\u001b[36mCell\u001b[39m\u001b[36m \u001b[39m\u001b[32mIn[16]\u001b[39m\u001b[32m, line 34\u001b[39m, in \u001b[36mobjective\u001b[39m\u001b[34m(trial)\u001b[39m\n\u001b[32m     32\u001b[39m \u001b[38;5;28;01mfor\u001b[39;00m epoch \u001b[38;5;129;01min\u001b[39;00m \u001b[38;5;28mrange\u001b[39m(\u001b[32m1\u001b[39m, \u001b[32m201\u001b[39m):\n\u001b[32m     33\u001b[39m     loss = train(model, data, optimizer, criterion, scaler)\n\u001b[32m---> \u001b[39m\u001b[32m34\u001b[39m     val_f1 = \u001b[43mevaluate_f1\u001b[49m\u001b[43m(\u001b[49m\u001b[43mmodel\u001b[49m\u001b[43m,\u001b[49m\u001b[43m \u001b[49m\u001b[43mdata\u001b[49m\u001b[43m,\u001b[49m\u001b[43m \u001b[49m\u001b[43msplit\u001b[49m\u001b[43m=\u001b[49m\u001b[33;43m'\u001b[39;49m\u001b[33;43mval\u001b[39;49m\u001b[33;43m'\u001b[39;49m\u001b[43m)\u001b[49m\n\u001b[32m     35\u001b[39m     writer.add_scalar(\u001b[33m\"\u001b[39m\u001b[33mLoss/train\u001b[39m\u001b[33m\"\u001b[39m, loss, epoch)\n\u001b[32m     36\u001b[39m     writer.add_scalar(\u001b[33m\"\u001b[39m\u001b[33mF1/val\u001b[39m\u001b[33m\"\u001b[39m, val_f1, epoch)\n",
      "\u001b[36mCell\u001b[39m\u001b[36m \u001b[39m\u001b[32mIn[15]\u001b[39m\u001b[32m, line 58\u001b[39m, in \u001b[36mevaluate_f1\u001b[39m\u001b[34m(model, data, split)\u001b[39m\n\u001b[32m     56\u001b[39m out = model(x_dict, data.edge_index_dict)\n\u001b[32m     57\u001b[39m mask = data[\u001b[33m'\u001b[39m\u001b[33mflow\u001b[39m\u001b[33m'\u001b[39m][\u001b[33mf\u001b[39m\u001b[33m\"\u001b[39m\u001b[38;5;132;01m{\u001b[39;00msplit\u001b[38;5;132;01m}\u001b[39;00m\u001b[33m_mask\u001b[39m\u001b[33m\"\u001b[39m]\n\u001b[32m---> \u001b[39m\u001b[32m58\u001b[39m preds = \u001b[43mout\u001b[49m\u001b[43m[\u001b[49m\u001b[33;43m'\u001b[39;49m\u001b[33;43mflow\u001b[39;49m\u001b[33;43m'\u001b[39;49m\u001b[43m]\u001b[49m\u001b[43m[\u001b[49m\u001b[43mmask\u001b[49m\u001b[43m]\u001b[49m\u001b[43m.\u001b[49m\u001b[43margmax\u001b[49m\u001b[43m(\u001b[49m\u001b[43mdim\u001b[49m\u001b[43m=\u001b[49m\u001b[32;43m1\u001b[39;49m\u001b[43m)\u001b[49m.cpu()\n\u001b[32m     59\u001b[39m labels = data[\u001b[33m'\u001b[39m\u001b[33mflow\u001b[39m\u001b[33m'\u001b[39m].y[mask].cpu()\n\u001b[32m     60\u001b[39m \u001b[38;5;28;01mreturn\u001b[39;00m f1_score(labels, preds, average=\u001b[33m'\u001b[39m\u001b[33mmacro\u001b[39m\u001b[33m'\u001b[39m)\n",
      "\u001b[31mKeyboardInterrupt\u001b[39m: "
     ]
    }
   ],
   "source": [
    "split_masks(data)\n",
    "\n",
    "study = optuna.create_study(\n",
    "    direction=\"maximize\",\n",
    "    study_name=\"hetero_gnn_intrusion\",\n",
    "    storage=storage,\n",
    "    load_if_exists=True,\n",
    ")\n",
    "study.optimize(objective, n_trials=20)\n",
    "\n",
    "print(\"Best hyperparams:\", study.best_params)"
   ]
  },
  {
   "cell_type": "code",
   "execution_count": null,
   "id": "d3e8bfb9",
   "metadata": {},
   "outputs": [],
   "source": [
    "import torch\n",
    "from sklearn.metrics import f1_score, classification_report, confusion_matrix\n",
    "from torch.utils.tensorboard import SummaryWriter\n",
    "import seaborn as sns\n",
    "import matplotlib.pyplot as plt\n",
    "\n",
    "\n",
    "def train_and_return_f1(best_params, model_class, data, device='cuda', num_epochs=200, show_report=True):\n",
    "\n",
    "    \"\"\"\n",
    "    Trains the model using your custom pipeline and returns model and test F1 score.\n",
    "    \n",
    "    Parameters:\n",
    "        best_params (dict): Dictionary with hyperparameters.\n",
    "        model_class (nn.Module): The class to instantiate the model from.\n",
    "        data (HeteroData): Your full dataset (with train/val/test masks).\n",
    "        device (str): 'cuda' or 'cpu'\n",
    "        num_epochs (int): Number of training epochs.\n",
    "        show_report (bool): Whether to print full classification report.\n",
    "\n",
    "    Returns:\n",
    "        model: Trained model.\n",
    "        f1: Macro F1 score on test split.\n",
    "    \"\"\"\n",
    "    scaler = GradScaler(device=device)\n",
    "    assert data['flow'].y.dim() == 1, \"Labels must be 1D\"\n",
    "    assert data['flow'].test_mask.dtype == torch.bool, \"Test mask must be boolean\"\n",
    "\n",
    "    class_names = encoder.classes_\n",
    "\n",
    "    hidden_channels = best_params['hidden_channels']\n",
    "    dropout = best_params['dropout']\n",
    "    lr = best_params['lr']\n",
    "\n",
    "    num_classes = len(torch.unique(data['flow'].y))\n",
    "    num_hosts = data['host'].x.size(0) if 'host' in data.node_types else 0\n",
    "\n",
    "    model = model_class(\n",
    "        data.metadata(), hidden_channels, num_classes, dropout,\n",
    "        num_hosts=num_hosts\n",
    "    ).to(device)\n",
    "\n",
    "    optimizer = torch.optim.Adam(model.parameters(), lr=lr)\n",
    "    criterion = torch.nn.CrossEntropyLoss()\n",
    "\n",
    "    writer = SummaryWriter(log_dir=f\"../../Parameter_Databases/Tensorboard/final_model\")\n",
    "\n",
    "    for epoch in range(1, num_epochs + 1):\n",
    "        loss = train(model, data, optimizer, criterion, scaler)  # pass scaler here!\n",
    "        val_acc = evaluate(model, data, split='val')\n",
    "        writer.add_scalar(\"Loss/train\", loss, epoch)\n",
    "        writer.add_scalar(\"Acc/val\", val_acc, epoch)\n",
    "\n",
    "    writer.close()\n",
    "\n",
    "    # ==== TEST EVALUATION ====\n",
    "    model.eval()\n",
    "    y_true, y_pred = [], []\n",
    "    with torch.no_grad():\n",
    "        out = model(data.x_dict, data.edge_index_dict)\n",
    "        mask = data['flow'].test_mask\n",
    "        logits = out[mask]\n",
    "        preds = logits.argmax(dim=1).cpu()\n",
    "        labels = data['flow'].y[mask].cpu()\n",
    "        y_pred.extend(preds.tolist())\n",
    "        y_true.extend(labels.tolist())\n",
    "\n",
    "    f1 = f1_score(y_true, y_pred, average='macro')\n",
    "\n",
    "    if show_report:\n",
    "        class_names = encoder.classes_\n",
    "        print(\"=== Classification Report ===\")\n",
    "        print(classification_report(y_true, y_pred, target_names=class_names, digits=4))\n",
    "        \n",
    "        # Confusion matrix\n",
    "        import seaborn as sns\n",
    "        import matplotlib.pyplot as plt\n",
    "\n",
    "        cm = confusion_matrix(y_true, y_pred)\n",
    "        plt.figure(figsize=(10, 7))\n",
    "        sns.heatmap(cm, annot=True, fmt='d', cmap='Blues',\n",
    "                    xticklabels=class_names,\n",
    "                    yticklabels=class_names)\n",
    "        plt.xlabel('Predicted')\n",
    "        plt.ylabel('True')\n",
    "        plt.title('Confusion Matrix')\n",
    "        plt.tight_layout()\n",
    "        plt.show()\n",
    "\n",
    "\n",
    "        print(f\"\\nMacro F1 Score: {f1:.4f}\")\n",
    "\n",
    "    return model, f1"
   ]
  },
  {
   "cell_type": "code",
   "execution_count": null,
   "id": "d68d95b4",
   "metadata": {},
   "outputs": [
    {
     "name": "stdout",
     "output_type": "stream",
     "text": [
      "=== Classification Report ===\n",
      "              precision    recall  f1-score   support\n",
      "\n",
      "      BENIGN     0.9962    0.9999    0.9981     83180\n",
      "        DDoS     0.0000    0.0000    0.0000     19321\n",
      "    DoS Hulk     0.4158    1.0000    0.5874     34473\n",
      "    PortScan     0.0000    0.0000    0.0000     23870\n",
      " RARE_ATTACK     0.0000    0.0000    0.0000      5555\n",
      "\n",
      "    accuracy                         0.7070    166399\n",
      "   macro avg     0.2824    0.4000    0.3171    166399\n",
      "weighted avg     0.5841    0.7070    0.6206    166399\n",
      "\n"
     ]
    },
    {
     "name": "stderr",
     "output_type": "stream",
     "text": [
      "/home/mayur/miniconda3/envs/gnnnet/lib/python3.12/site-packages/sklearn/metrics/_classification.py:1565: UndefinedMetricWarning: Precision is ill-defined and being set to 0.0 in labels with no predicted samples. Use `zero_division` parameter to control this behavior.\n",
      "  _warn_prf(average, modifier, f\"{metric.capitalize()} is\", len(result))\n",
      "/home/mayur/miniconda3/envs/gnnnet/lib/python3.12/site-packages/sklearn/metrics/_classification.py:1565: UndefinedMetricWarning: Precision is ill-defined and being set to 0.0 in labels with no predicted samples. Use `zero_division` parameter to control this behavior.\n",
      "  _warn_prf(average, modifier, f\"{metric.capitalize()} is\", len(result))\n",
      "/home/mayur/miniconda3/envs/gnnnet/lib/python3.12/site-packages/sklearn/metrics/_classification.py:1565: UndefinedMetricWarning: Precision is ill-defined and being set to 0.0 in labels with no predicted samples. Use `zero_division` parameter to control this behavior.\n",
      "  _warn_prf(average, modifier, f\"{metric.capitalize()} is\", len(result))\n"
     ]
    },
    {
     "data": {
      "image/png": "[encoded data removed]",
      "text/plain": [
       "<Figure size 1000x700 with 2 Axes>"
      ]
     },
     "metadata": {},
     "output_type": "display_data"
    },
    {
     "name": "stdout",
     "output_type": "stream",
     "text": [
      "\n",
      "Macro F1 Score: 0.3171\n"
     ]
    }
   ],
   "source": [
    "model, test_f1 = train_and_return_f1(\n",
    "    best_params=study.best_params,\n",
    "    model_class=HeteroGNN,\n",
    "    data=data,\n",
    "    device='cuda'\n",
    ")"
   ]
  }
 ],
 "metadata": {
  "kernelspec": {
   "display_name": "gnnnet",
   "language": "python",
   "name": "python3"
  },
  "language_info": {
   "codemirror_mode": {
    "name": "ipython",
    "version": 3
   },
   "file_extension": ".py",
   "mimetype": "text/x-python",
   "name": "python",
   "nbconvert_exporter": "python",
   "pygments_lexer": "ipython3",
   "version": "3.12.9"
  }
 },
 "nbformat": 4,
 "nbformat_minor": 5
}
